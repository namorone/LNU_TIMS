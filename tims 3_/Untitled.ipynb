{
 "cells": [
  {
   "cell_type": "code",
   "execution_count": null,
   "id": "3bc69228-3f5d-40d9-956f-db12e76531ac",
   "metadata": {},
   "outputs": [],
   "source": [
    "import numpy as np\n",
    "import matplotlib.pyplot as plt\n",
    "\n",
    "# Крок 1: Обчислення умовних середніх значень y(xi)\n",
    "\n",
    "data = np.array([[22, 0, 0, 0, 0, 0, 0],\n",
    "                 [2, 31, 0, 0, 0, 0, 0],\n",
    "                 [0, 1, 25, 4, 0, 0, 0],\n",
    "                 [0, 0, 2, 18, 3, 0, 0],\n",
    "                 [0, 0, 0, 1, 30, 8, 0],\n",
    "                 [0, 0, 0, 0, 0, 0, 12],\n",
    "                 [0, 0, 0, 0, 0, 2, 0]])\n",
    "\n",
    "um_conditional_means = np.mean(data, axis=0)[1:]\n",
    "print (um_conditional_means)\n",
    "x_values = [3, 6, 7, 10, 13, 15, 17]\n",
    "\n",
    "print(\"Умовні середні значення y(xi):\")\n",
    "for i, yxi in enumerate(um_conditional_means):\n",
    "    print(f\"y({x_values[i]}) = {yxi:.2f}\")\n",
    "\n",
    "\n",
    "# Крок 2: Побудова поля кореляції\n",
    "\n",
    "plt.scatter(x_values, um_conditional_means)\n",
    "plt.xlabel('X')\n",
    "plt.ylabel('Y')\n",
    "plt.title('Поле кореляції')\n",
    "plt.show()\n",
    "\n",
    "\n",
    "# Крок 3: Складання системи рівнянь відповідно до вигляду функції регресії\n",
    "\n",
    "# В даному прикладі застосуємо лінійну функцію регресії: y = a*x + b\n",
    "# Тоді система рівнянь буде мати вигляд:\n",
    "# y(3) = a*3 + b\n",
    "# y(6) = a*6 + b\n",
    "# ...\n",
    "\n",
    "# Розв'язання системи рівнянь\n",
    "A = np.vstack([x_values, np.ones(len(x_values))]).T\n",
    "a, b = np.linalg.lstsq(A, um_conditional_means, rcond=None)[0]\n",
    "\n",
    "print(\"Невідомі параметри функції регресії:\")\n",
    "print(f\"a = {a:.2f}\")\n",
    "print(f\"b = {b:.2f}\")\n",
    "\n",
    "\n",
    "# Крок 4: Запис рівняння кривої регресії та побудова графіку\n",
    "\n",
    "def regression_curve(x):\n",
    "    return a * x + b\n",
    "\n",
    "plt.scatter(x_values, um_conditional_means, label='Точки Mi(xi;yxi)')\n",
    "plt.plot(x_values, regression_curve(np.array(x_values)), color='red', label='Крива регресії')\n",
    "plt.xlabel('X')\n",
    "plt.ylabel('Y')\n",
    "plt.title('Графік кривої регресії')\n",
    "plt.legend()\n",
    "plt.show()\n",
    "\n",
    "# Крок 5: Обчислення дисперсії Y відносно кривої регресії Y на X\n",
    "\n",
    "squared_errors = (um_conditional_means - regression_curve(np.array(x_values))) ** 2\n",
    "variance = np.mean(squared_errors)\n",
    "\n",
    "print(f\"Дисперсія Y відносно кривої регресії: {variance:.2f}\")\n",
    "\n",
    "# Крок 6: Обчислення суми квадратів відхилень um_conditional_means від значень на кривій регресії\n",
    "\n",
    "sum_of_squared_deviations = np.sum((um_conditional_means - regression_curve(np.array(x_values))) ** 2)\n",
    "\n",
    "print(f\"Сума квадратів відхилень δ^2: {sum_of_squared_deviations:.2f}\")\n",
    "\n"
   ]
  },
  {
   "cell_type": "code",
   "execution_count": null,
   "id": "db3ae3f7-bab6-4f58-abee-88321534bc16",
   "metadata": {},
   "outputs": [],
   "source": []
  },
  {
   "cell_type": "code",
   "execution_count": 14,
   "id": "fac6abc1-b146-4d95-860d-d5131aa42ccb",
   "metadata": {},
   "outputs": [
    {
     "name": "stdout",
     "output_type": "stream",
     "text": [
      "A = 1.339666832219704\n",
      "B = -1.531358484185641\n"
     ]
    }
   ],
   "source": [
    "# Вихідні рівняння\n",
    "eq1 = lambda A, B: A * 468.80963299902675 + 161.0 * B - 381.5\n",
    "eq2 = lambda A, B: A * 1446.0 + B * 468.80963299902675 - 1219.2426304286757\n",
    "\n",
    "# Метод Гаусса для розв'язання системи рівнянь\n",
    "def gauss_elimination(eq1, eq2):\n",
    "    a11 = 468.80963299902675\n",
    "    a12 = 161.0\n",
    "    a21 = 1446.0\n",
    "    a22 = 468.80963299902675\n",
    "    b1 = 381.5\n",
    "    b2 = 1219.2426304286757\n",
    "\n",
    "    # Elimination steps\n",
    "    factor = a21 / a11\n",
    "    a22 -= factor * a12\n",
    "    b2 -= factor * b1\n",
    "\n",
    "    # Back substitution\n",
    "    B = b2 / a22\n",
    "    A = (b1 - a12 * B) / a11\n",
    "\n",
    "    return A, B\n",
    "\n",
    "# Розв'язок системи рівнянь\n",
    "A, B = gauss_elimination(eq1, eq2)\n",
    "\n",
    "# Результат\n",
    "print(\"A =\", A)\n",
    "print(\"B =\", B)"
   ]
  },
  {
   "cell_type": "code",
   "execution_count": null,
   "id": "9e5a65ab-f684-4c65-b40a-321b75730bc8",
   "metadata": {},
   "outputs": [],
   "source": []
  },
  {
   "cell_type": "code",
   "execution_count": null,
   "id": "02cc101f-061d-4d56-a5b6-b92b7adb42bb",
   "metadata": {},
   "outputs": [],
   "source": []
  },
  {
   "cell_type": "code",
   "execution_count": null,
   "id": "8c84d572-1c06-4017-8239-782f63b1b211",
   "metadata": {},
   "outputs": [],
   "source": []
  },
  {
   "cell_type": "code",
   "execution_count": null,
   "id": "845ecc9f-adcc-4a99-9c40-518aa225b317",
   "metadata": {},
   "outputs": [],
   "source": []
  },
  {
   "cell_type": "code",
   "execution_count": null,
   "id": "d1822a5c-a693-4253-97d2-3a5497e49c6d",
   "metadata": {},
   "outputs": [],
   "source": []
  },
  {
   "cell_type": "code",
   "execution_count": null,
   "id": "004e4a16-78b3-4768-980c-68f02d4543b7",
   "metadata": {},
   "outputs": [],
   "source": []
  },
  {
   "cell_type": "code",
   "execution_count": null,
   "id": "a9151ee0-96b0-4143-835d-d7c0db6c7fca",
   "metadata": {},
   "outputs": [],
   "source": []
  },
  {
   "cell_type": "code",
   "execution_count": null,
   "id": "8a260681-bf9a-4160-ae89-00d4fc7901b3",
   "metadata": {},
   "outputs": [],
   "source": []
  },
  {
   "cell_type": "code",
   "execution_count": null,
   "id": "0dbf469f-0a58-4617-aff0-813f7db9151b",
   "metadata": {},
   "outputs": [],
   "source": []
  }
 ],
 "metadata": {
  "kernelspec": {
   "display_name": "Python 3 (ipykernel)",
   "language": "python",
   "name": "python3"
  },
  "language_info": {
   "codemirror_mode": {
    "name": "ipython",
    "version": 3
   },
   "file_extension": ".py",
   "mimetype": "text/x-python",
   "name": "python",
   "nbconvert_exporter": "python",
   "pygments_lexer": "ipython3",
   "version": "3.9.12"
  }
 },
 "nbformat": 4,
 "nbformat_minor": 5
}
